{
 "cells": [
  {
   "cell_type": "code",
   "execution_count": 18,
   "metadata": {},
   "outputs": [],
   "source": [
    "import pandas as pd\n",
    "import numpy as np\n",
    "import seaborn as sns"
   ]
  },
  {
   "cell_type": "code",
   "execution_count": 2,
   "metadata": {},
   "outputs": [
    {
     "name": "stderr",
     "output_type": "stream",
     "text": [
      "/opt/anaconda3/lib/python3.7/site-packages/IPython/core/interactiveshell.py:3063: DtypeWarning: Columns (14,15) have mixed types.Specify dtype option on import or set low_memory=False.\n",
      "  interactivity=interactivity, compiler=compiler, result=result)\n",
      "/opt/anaconda3/lib/python3.7/site-packages/IPython/core/interactiveshell.py:3063: DtypeWarning: Columns (10) have mixed types.Specify dtype option on import or set low_memory=False.\n",
      "  interactivity=interactivity, compiler=compiler, result=result)\n"
     ]
    }
   ],
   "source": [
    "amazon_meta_df = pd.read_csv('datasets/amazon_beauty_metadata.csv')\n",
    "amazon_reviews_df = pd.read_csv('datasets/amazon_beauty_reviews.csv')"
   ]
  },
  {
   "cell_type": "code",
   "execution_count": 3,
   "metadata": {},
   "outputs": [
    {
     "name": "stdout",
     "output_type": "stream",
     "text": [
      "<class 'pandas.core.frame.DataFrame'>\n",
      "RangeIndex: 371345 entries, 0 to 371344\n",
      "Data columns (total 13 columns):\n",
      " #   Column          Non-Null Count   Dtype  \n",
      "---  ------          --------------   -----  \n",
      " 0   Unnamed: 0      371345 non-null  int64  \n",
      " 1   overall         371345 non-null  float64\n",
      " 2   verified        371345 non-null  bool   \n",
      " 3   reviewTime      371345 non-null  object \n",
      " 4   reviewerID      371345 non-null  object \n",
      " 5   asin            371345 non-null  object \n",
      " 6   reviewerName    371293 non-null  object \n",
      " 7   reviewText      370946 non-null  object \n",
      " 8   summary         371134 non-null  object \n",
      " 9   unixReviewTime  371345 non-null  int64  \n",
      " 10  vote            51899 non-null   object \n",
      " 11  style           125958 non-null  object \n",
      " 12  image           8391 non-null    object \n",
      "dtypes: bool(1), float64(1), int64(2), object(9)\n",
      "memory usage: 34.4+ MB\n"
     ]
    }
   ],
   "source": [
    "amazon_reviews_df.info()"
   ]
  },
  {
   "cell_type": "code",
   "execution_count": 4,
   "metadata": {},
   "outputs": [
    {
     "name": "stdout",
     "output_type": "stream",
     "text": [
      "<class 'pandas.core.frame.DataFrame'>\n",
      "RangeIndex: 32992 entries, 0 to 32991\n",
      "Data columns (total 16 columns):\n",
      " #   Column        Non-Null Count  Dtype \n",
      "---  ------        --------------  ----- \n",
      " 0   Unnamed: 0    32992 non-null  int64 \n",
      " 1   title         32991 non-null  object\n",
      " 2   image         16609 non-null  object\n",
      " 3   brand         17301 non-null  object\n",
      " 4   rank          32615 non-null  object\n",
      " 5   main_cat      32992 non-null  object\n",
      " 6   asin          32992 non-null  object\n",
      " 7   description   15191 non-null  object\n",
      " 8   also_view     8155 non-null   object\n",
      " 9   also_buy      6613 non-null   object\n",
      " 10  price         11288 non-null  object\n",
      " 11  similar_item  1305 non-null   object\n",
      " 12  details       32836 non-null  object\n",
      " 13  feature       269 non-null    object\n",
      " 14  tech1         10 non-null     object\n",
      " 15  date          19 non-null     object\n",
      "dtypes: int64(1), object(15)\n",
      "memory usage: 4.0+ MB\n"
     ]
    }
   ],
   "source": [
    "amazon_meta_df.info()"
   ]
  },
  {
   "cell_type": "code",
   "execution_count": 5,
   "metadata": {},
   "outputs": [],
   "source": [
    "amazon_meta_df = amazon_meta_df.drop('details', axis=1)"
   ]
  },
  {
   "cell_type": "code",
   "execution_count": 6,
   "metadata": {},
   "outputs": [
    {
     "name": "stdout",
     "output_type": "stream",
     "text": [
      "brand\n",
      "#Flashmob                                              1\n",
      "#Healthy                                               2\n",
      "#R5                                                    1\n",
      "(3 Pack) NYC Ultra Moist Lipwear - Violet Shine ...    1\n",
      "(Black Opal)                                           1\n",
      "                                                      ..\n",
      "younique                                               1\n",
      "youthwaters                                            1\n",
      "yoyomax                                                1\n",
      "zila                                                   1\n",
      "zonman                                                 1\n",
      "Name: title, Length: 7893, dtype: int64\n"
     ]
    }
   ],
   "source": [
    "brands = amazon_meta_df.groupby('brand')['title'].nunique()\n",
    "print(brands)"
   ]
  },
  {
   "cell_type": "code",
   "execution_count": 7,
   "metadata": {},
   "outputs": [
    {
     "data": {
      "text/html": [
       "<div>\n",
       "<style scoped>\n",
       "    .dataframe tbody tr th:only-of-type {\n",
       "        vertical-align: middle;\n",
       "    }\n",
       "\n",
       "    .dataframe tbody tr th {\n",
       "        vertical-align: top;\n",
       "    }\n",
       "\n",
       "    .dataframe thead th {\n",
       "        text-align: right;\n",
       "    }\n",
       "</style>\n",
       "<table border=\"1\" class=\"dataframe\">\n",
       "  <thead>\n",
       "    <tr style=\"text-align: right;\">\n",
       "      <th></th>\n",
       "      <th>title</th>\n",
       "      <th>description</th>\n",
       "      <th>brand</th>\n",
       "    </tr>\n",
       "  </thead>\n",
       "  <tbody>\n",
       "    <tr>\n",
       "      <th>0</th>\n",
       "      <td>workout headphones by arena essentials</td>\n",
       "      <td>nan</td>\n",
       "      <td>harpercollins</td>\n",
       "    </tr>\n",
       "    <tr>\n",
       "      <th>1</th>\n",
       "      <td>black diamond</td>\n",
       "      <td>['this is the new purple bottle that just came...</td>\n",
       "      <td>swedish beauty</td>\n",
       "    </tr>\n",
       "    <tr>\n",
       "      <th>2</th>\n",
       "      <td>12 pc blue heaven kajal\"herbal kajal with vita...</td>\n",
       "      <td>['a brand-new, unused, unopened, undamaged ite...</td>\n",
       "      <td>blue heave</td>\n",
       "    </tr>\n",
       "    <tr>\n",
       "      <th>3</th>\n",
       "      <td>the inheritance</td>\n",
       "      <td>[\"you have to wonder why there isn't a word in...</td>\n",
       "      <td>sunatoria</td>\n",
       "    </tr>\n",
       "    <tr>\n",
       "      <th>4</th>\n",
       "      <td>the listening cards</td>\n",
       "      <td>['the listening cards are an eloquent primer i...</td>\n",
       "      <td>listening planet</td>\n",
       "    </tr>\n",
       "  </tbody>\n",
       "</table>\n",
       "</div>"
      ],
      "text/plain": [
       "                                               title  \\\n",
       "0             workout headphones by arena essentials   \n",
       "1                                      black diamond   \n",
       "2  12 pc blue heaven kajal\"herbal kajal with vita...   \n",
       "3                                    the inheritance   \n",
       "4                                the listening cards   \n",
       "\n",
       "                                         description             brand  \n",
       "0                                                nan     harpercollins  \n",
       "1  ['this is the new purple bottle that just came...    swedish beauty  \n",
       "2  ['a brand-new, unused, unopened, undamaged ite...        blue heave  \n",
       "3  [\"you have to wonder why there isn't a word in...         sunatoria  \n",
       "4  ['the listening cards are an eloquent primer i...  listening planet  "
      ]
     },
     "execution_count": 7,
     "metadata": {},
     "output_type": "execute_result"
    }
   ],
   "source": [
    "keywords = ['cleanser', 'moisturizer', 'oil', 'lotion', 'mask', 'aftershave', 'wash', 'scrub', 'shaving cream', 'deoderant', 'spf', 'face',\n",
    "           'moisture', 'dry', 'oily']\n",
    "\n",
    "lowercase_cols = amazon_meta_df[['title','description', 'brand']]\n",
    "lowercase_cols = lowercase_cols.apply(lambda x: x.astype(str).str.lower())\n",
    "lowercase_cols.head()"
   ]
  },
  {
   "cell_type": "code",
   "execution_count": 8,
   "metadata": {},
   "outputs": [],
   "source": [
    "import string\n",
    "table = str.maketrans(\"\", \"\", string.punctuation)\n",
    "vals = []\n",
    "count = 0\n",
    "products = []\n",
    "for idx, j in lowercase_cols.iterrows():\n",
    "    for val in j:\n",
    "        val = val.translate(table)\n",
    "\n",
    "for word in keywords:\n",
    "    lowercase_cols[\"title-indx\"] = lowercase_cols[\"title\"].str.find(word)\n",
    "    lowercase_cols[\"descript-indx\"] = lowercase_cols[\"description\"].str.find(word) "
   ]
  },
  {
   "cell_type": "code",
   "execution_count": 9,
   "metadata": {},
   "outputs": [
    {
     "name": "stdout",
     "output_type": "stream",
     "text": [
      "45\n",
      "159\n"
     ]
    }
   ],
   "source": [
    "print(lowercase_cols[\"title-indx\"].nunique())\n",
    "print(lowercase_cols[\"descript-indx\"].nunique())"
   ]
  },
  {
   "cell_type": "code",
   "execution_count": 15,
   "metadata": {},
   "outputs": [
    {
     "data": {
      "text/html": [
       "<div>\n",
       "<style scoped>\n",
       "    .dataframe tbody tr th:only-of-type {\n",
       "        vertical-align: middle;\n",
       "    }\n",
       "\n",
       "    .dataframe tbody tr th {\n",
       "        vertical-align: top;\n",
       "    }\n",
       "\n",
       "    .dataframe thead th {\n",
       "        text-align: right;\n",
       "    }\n",
       "</style>\n",
       "<table border=\"1\" class=\"dataframe\">\n",
       "  <thead>\n",
       "    <tr style=\"text-align: right;\">\n",
       "      <th></th>\n",
       "      <th>title</th>\n",
       "      <th>description</th>\n",
       "      <th>brand</th>\n",
       "      <th>title-indx</th>\n",
       "      <th>descript-indx</th>\n",
       "    </tr>\n",
       "  </thead>\n",
       "  <tbody>\n",
       "    <tr>\n",
       "      <th>57</th>\n",
       "      <td>no7 stay perfect foundation warm beige</td>\n",
       "      <td>[\"life-proof foundation for a naturally flawle...</td>\n",
       "      <td>boots no7</td>\n",
       "      <td>-1</td>\n",
       "      <td>434</td>\n",
       "    </tr>\n",
       "    <tr>\n",
       "      <th>91</th>\n",
       "      <td>no7 stay perfect foundation cool vanilla by no7</td>\n",
       "      <td>[\"no7 stay perfect foundation now stays perfec...</td>\n",
       "      <td>no7</td>\n",
       "      <td>-1</td>\n",
       "      <td>548</td>\n",
       "    </tr>\n",
       "    <tr>\n",
       "      <th>144</th>\n",
       "      <td>shampoo, rosemary 8 oz.</td>\n",
       "      <td>['', 'for normal to oily hair', \"rosemary is k...</td>\n",
       "      <td>weleda</td>\n",
       "      <td>-1</td>\n",
       "      <td>20</td>\n",
       "    </tr>\n",
       "    <tr>\n",
       "      <th>175</th>\n",
       "      <td>sea &amp; ski faces sensitive skin sunblock lotion...</td>\n",
       "      <td>['', 'contains anti-aging formula astazanthin ...</td>\n",
       "      <td>nan</td>\n",
       "      <td>-1</td>\n",
       "      <td>565</td>\n",
       "    </tr>\n",
       "    <tr>\n",
       "      <th>221</th>\n",
       "      <td>almay gently clean non-oily face makeup remove...</td>\n",
       "      <td>['fragrance free contains 35 pads  gently lift...</td>\n",
       "      <td>nan</td>\n",
       "      <td>23</td>\n",
       "      <td>-1</td>\n",
       "    </tr>\n",
       "    <tr>\n",
       "      <th>...</th>\n",
       "      <td>...</td>\n",
       "      <td>...</td>\n",
       "      <td>...</td>\n",
       "      <td>...</td>\n",
       "      <td>...</td>\n",
       "    </tr>\n",
       "    <tr>\n",
       "      <th>32028</th>\n",
       "      <td>ebene natural styling balm</td>\n",
       "      <td>['made with vegetable wax. contains no beeswax...</td>\n",
       "      <td>nan</td>\n",
       "      <td>-1</td>\n",
       "      <td>476</td>\n",
       "    </tr>\n",
       "    <tr>\n",
       "      <th>32031</th>\n",
       "      <td>salica acne face wash and cleanser with salicy...</td>\n",
       "      <td>['salica acne face wash is a natural acne trea...</td>\n",
       "      <td>salica</td>\n",
       "      <td>-1</td>\n",
       "      <td>793</td>\n",
       "    </tr>\n",
       "    <tr>\n",
       "      <th>32786</th>\n",
       "      <td>facial cleanser for acne prone skin, oily skin...</td>\n",
       "      <td>nan</td>\n",
       "      <td>nan</td>\n",
       "      <td>37</td>\n",
       "      <td>-1</td>\n",
       "    </tr>\n",
       "    <tr>\n",
       "      <th>32793</th>\n",
       "      <td>ebene shea butter curl defining cream 16 oz</td>\n",
       "      <td>['utilizing the humectant properties of aloe v...</td>\n",
       "      <td>ebene</td>\n",
       "      <td>-1</td>\n",
       "      <td>524</td>\n",
       "    </tr>\n",
       "    <tr>\n",
       "      <th>32949</th>\n",
       "      <td>santa maria novella creama per le mani hand cr...</td>\n",
       "      <td>['this hand cream is considered to be the best...</td>\n",
       "      <td>santa maria novella</td>\n",
       "      <td>-1</td>\n",
       "      <td>218</td>\n",
       "    </tr>\n",
       "  </tbody>\n",
       "</table>\n",
       "<p>246 rows × 5 columns</p>\n",
       "</div>"
      ],
      "text/plain": [
       "                                                   title  \\\n",
       "57                no7 stay perfect foundation warm beige   \n",
       "91       no7 stay perfect foundation cool vanilla by no7   \n",
       "144                              shampoo, rosemary 8 oz.   \n",
       "175    sea & ski faces sensitive skin sunblock lotion...   \n",
       "221    almay gently clean non-oily face makeup remove...   \n",
       "...                                                  ...   \n",
       "32028                         ebene natural styling balm   \n",
       "32031  salica acne face wash and cleanser with salicy...   \n",
       "32786  facial cleanser for acne prone skin, oily skin...   \n",
       "32793        ebene shea butter curl defining cream 16 oz   \n",
       "32949  santa maria novella creama per le mani hand cr...   \n",
       "\n",
       "                                             description                brand  \\\n",
       "57     [\"life-proof foundation for a naturally flawle...            boots no7   \n",
       "91     [\"no7 stay perfect foundation now stays perfec...                  no7   \n",
       "144    ['', 'for normal to oily hair', \"rosemary is k...               weleda   \n",
       "175    ['', 'contains anti-aging formula astazanthin ...                  nan   \n",
       "221    ['fragrance free contains 35 pads  gently lift...                  nan   \n",
       "...                                                  ...                  ...   \n",
       "32028  ['made with vegetable wax. contains no beeswax...                  nan   \n",
       "32031  ['salica acne face wash is a natural acne trea...               salica   \n",
       "32786                                                nan                  nan   \n",
       "32793  ['utilizing the humectant properties of aloe v...                ebene   \n",
       "32949  ['this hand cream is considered to be the best...  santa maria novella   \n",
       "\n",
       "       title-indx  descript-indx  \n",
       "57             -1            434  \n",
       "91             -1            548  \n",
       "144            -1             20  \n",
       "175            -1            565  \n",
       "221            23             -1  \n",
       "...           ...            ...  \n",
       "32028          -1            476  \n",
       "32031          -1            793  \n",
       "32786          37             -1  \n",
       "32793          -1            524  \n",
       "32949          -1            218  \n",
       "\n",
       "[246 rows x 5 columns]"
      ]
     },
     "execution_count": 15,
     "metadata": {},
     "output_type": "execute_result"
    }
   ],
   "source": [
    "products = lowercase_cols[(lowercase_cols['title-indx'] != -1) | (lowercase_cols['descript-indx'] != -1)]\n",
    "products"
   ]
  },
  {
   "cell_type": "code",
   "execution_count": null,
   "metadata": {},
   "outputs": [],
   "source": []
  }
 ],
 "metadata": {
  "kernelspec": {
   "display_name": "Python 3",
   "language": "python",
   "name": "python3"
  },
  "language_info": {
   "codemirror_mode": {
    "name": "ipython",
    "version": 3
   },
   "file_extension": ".py",
   "mimetype": "text/x-python",
   "name": "python",
   "nbconvert_exporter": "python",
   "pygments_lexer": "ipython3",
   "version": "3.7.6"
  }
 },
 "nbformat": 4,
 "nbformat_minor": 4
}
